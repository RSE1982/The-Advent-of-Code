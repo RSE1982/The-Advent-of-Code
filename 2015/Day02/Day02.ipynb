{
 "cells": [
  {
   "cell_type": "markdown",
   "metadata": {},
   "source": [
    "# Day 2: I Was Told There Would Be No Math\n"
   ]
  },
  {
   "cell_type": "code",
   "execution_count": 13,
   "metadata": {},
   "outputs": [],
   "source": [
    "input__file = \"Day02.txt\"\n",
    "input = open(input__file).read().split()"
   ]
  },
  {
   "cell_type": "markdown",
   "metadata": {},
   "source": [
    "##  Part 1\n",
    "The elves are running low on wrapping paper, and so they need to submit an order for more. They have a list of the dimensions (length ```l```, width ```w```, and height ```h```) of each present, and only want to order exactly as much as they need.\n",
    "\n",
    "Fortunately, every present is a box (a perfect right rectangular prism), which makes calculating the required wrapping paper for each gift a little easier: find the surface area of the box, which is ```2*l*w + 2*w*h + 2*h*l```. The elves also need a little extra paper for each present: the area of the smallest side.\n",
    "\n",
    "For example:\n",
    "\n",
    "- A present with dimensions ```2x3x4``` requires ```2*6 + 2*12 + 2*8 = 52``` square feet of wrapping paper plus ```6``` square feet of slack, for a total of ```58``` square feet.\n",
    "- A present with dimensions ```1x1x10``` requires ```2*1 + 2*10 + 2*10 = 42``` square feet of wrapping paper plus ```1``` square foot of slack, for a total of ```43``` square feet.\n",
    "\n",
    "All numbers in the elves' list are in feet. How many total square feet of wrapping paper should they order?\n",
    "\n"
   ]
  },
  {
   "cell_type": "code",
   "execution_count": 15,
   "metadata": {},
   "outputs": [
    {
     "name": "stdout",
     "output_type": "stream",
     "text": [
      "1586300\n"
     ]
    }
   ],
   "source": [
    "area = 0\n",
    "\n",
    "for line in input:\n",
    "    l, w, h = list(sorted(map(int, line.strip().split('x'))))\n",
    "    wrapping = 3 * l * w + 2 * w * h + 2 * h * l\n",
    "    area += wrapping\n",
    "\n",
    "print(area)"
   ]
  },
  {
   "cell_type": "markdown",
   "metadata": {},
   "source": [
    "## Part Two\n",
    "The elves are also running low on ribbon. Ribbon is all the same width, so they only have to worry about the length they need to order, which they would again like to be exact.\n",
    "\n",
    "The ribbon required to wrap a present is the shortest distance around its sides, or the smallest perimeter of any one face. Each present also requires a bow made out of ribbon as well; the feet of ribbon required for the perfect bow is equal to the cubic feet of volume of the present. Don't ask how they tie the bow, though; they'll never tell.\n",
    "\n",
    "For example:\n",
    "\n",
    "- A present with dimensions ```2x3x4``` requires ```2+2+3+3 = 10``` feet of ribbon to wrap the present plus ```2*3*4 = 24``` feet of ribbon for the bow, for a total of ```34``` feet.\n",
    "- A present with dimensions ```1x1x10``` requires ```1+1+1+1 = 4``` feet of ribbon to wrap the present plus ```1*1*10 = 10``` feet of ribbon for the bow, for a total of ```14``` feet.\n",
    "\n",
    "How many total feet of ribbon should they order?"
   ]
  },
  {
   "cell_type": "code",
   "execution_count": 16,
   "metadata": {},
   "outputs": [
    {
     "name": "stdout",
     "output_type": "stream",
     "text": [
      "3737498\n"
     ]
    }
   ],
   "source": [
    "ribbon = 0\n",
    "\n",
    "for line in input:\n",
    "    l, w, h = list(sorted(map(int, line.strip().split('x'))))\n",
    "\n",
    "    ribbon += max(\n",
    "        2 * (l + w), # smallest distance around sides\n",
    "        4 * l,       # smallest perimeter\n",
    "    )\n",
    "\n",
    "    ribbon += l * w * h\n",
    "\n",
    "print(ribbon)"
   ]
  }
 ],
 "metadata": {
  "kernelspec": {
   "display_name": "base",
   "language": "python",
   "name": "python3"
  },
  "language_info": {
   "codemirror_mode": {
    "name": "ipython",
    "version": 3
   },
   "file_extension": ".py",
   "mimetype": "text/x-python",
   "name": "python",
   "nbconvert_exporter": "python",
   "pygments_lexer": "ipython3",
   "version": "3.11.5"
  }
 },
 "nbformat": 4,
 "nbformat_minor": 2
}
