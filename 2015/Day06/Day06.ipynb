{
 "cells": [
  {
   "cell_type": "markdown",
   "metadata": {},
   "source": [
    "# Day 6: Probably a Fire Hazard"
   ]
  },
  {
   "cell_type": "code",
   "execution_count": 1,
   "metadata": {},
   "outputs": [],
   "source": [
    "import numpy as np\n",
    "data = open(\"Day06.txt\").read().splitlines()\n",
    "data = [d.split(' ') for d in data]"
   ]
  },
  {
   "cell_type": "markdown",
   "metadata": {},
   "source": [
    "## Part 1\n",
    "Because your neighbors keep defeating you in the holiday house decorating contest year after year, you've decided to deploy one million lights in a 1000x1000 grid.\n",
    "\n",
    "Furthermore, because you've been especially nice this year, Santa has mailed you instructions on how to display the ideal lighting configuration.\n",
    "\n",
    "Lights in your grid are numbered from 0 to 999 in each direction; the lights at each corner are at ```0,0```, ```0,999```, ```999,999```, and ```999,0```. The instructions include whether to turn on, turn off, or toggle various inclusive ranges given as coordinate pairs. Each coordinate pair represents opposite corners of a rectangle, inclusive; a coordinate pair like ```0,0 through 2,2``` therefore refers to 9 lights in a 3x3 square. The lights all start turned off.\n",
    "\n",
    "To defeat your neighbors this year, all you have to do is set up your lights by doing the instructions Santa sent you in order.\n",
    "\n",
    "For example:\n",
    "\n",
    "- ```turn on 0,0 through 999,999``` would turn on (or leave on) every light.\n",
    "- ```toggle 0,0 through 999,0``` would toggle the first line of 1000 lights, turning off the ones that were on, and turning on the ones that were off.\n",
    "- ```turn off 499,499 through 500,500``` would turn off (or leave off) the middle four lights.\n",
    "\n",
    "After following the instructions, how many lights are lit?"
   ]
  },
  {
   "cell_type": "code",
   "execution_count": 2,
   "metadata": {},
   "outputs": [
    {
     "name": "stdout",
     "output_type": "stream",
     "text": [
      "400410\n"
     ]
    }
   ],
   "source": [
    "grid = np.zeros((1000, 1000), 'int32')\n",
    "for d in data:\n",
    "    # Turn on/off\n",
    "    if d[0] == 'turn':\n",
    "        x1, y1 = d[2].split(',')\n",
    "        x2, y2 = d[4].split(',')\n",
    "        x1, x2, y1, y2 = int(x1), int(x2), int(y1), int(y2)\n",
    "        if d[1] == 'on':\n",
    "            grid[x1:x2+1, y1:y2+1] = 1\n",
    "        else:\n",
    "            assert d[1] == 'off'\n",
    "            grid[x1:x2+1, y1:y2+1] = 0\n",
    "    # Toggle\n",
    "    else:\n",
    "        assert d[0] == 'toggle'\n",
    "        x1, y1 = d[1].split(',')\n",
    "        x2, y2 = d[3].split(',')\n",
    "        x1, x2, y1, y2 = int(x1), int(x2), int(y1), int(y2)\n",
    "        grid[x1:x2+1, y1:y2+1] = np.logical_not(grid[x1:x2+1, y1:y2+1])\n",
    "print(np.sum(grid))"
   ]
  },
  {
   "cell_type": "markdown",
   "metadata": {},
   "source": [
    "# Part Two\n",
    "You just finish implementing your winning light pattern when you realize you mistranslated Santa's message from Ancient Nordic Elvish.\n",
    "\n",
    "The light grid you bought actually has individual brightness controls; each light can have a brightness of zero or more. The lights all start at zero.\n",
    "\n",
    "The phrase ```turn on``` actually means that you should increase the brightness of those lights by ```1```.\n",
    "\n",
    "The phrase ```turn off``` actually means that you should decrease the brightness of those lights by ```1```, to a minimum of zero.\n",
    "\n",
    "The phrase ```toggle``` actually means that you should increase the brightness of those lights by ```2```.\n",
    "\n",
    "What is the total brightness of all lights combined after following Santa's instructions?\n",
    "\n",
    "For example:\n",
    "\n",
    "- ```turn on 0,0 through 0,0``` would increase the total brightness by 1.\n",
    "- ```toggle 0,0 through 999,999``` would increase the total brightness by 2000000."
   ]
  },
  {
   "cell_type": "code",
   "execution_count": 3,
   "metadata": {},
   "outputs": [
    {
     "name": "stdout",
     "output_type": "stream",
     "text": [
      "15343601\n"
     ]
    }
   ],
   "source": [
    "grid = np.zeros((1000, 1000), 'int32')\n",
    "for d in data:\n",
    "    # Turn on/off\n",
    "    if d[0] == 'turn':\n",
    "        x1, y1 = d[2].split(',')\n",
    "        x2, y2 = d[4].split(',')\n",
    "        x1, x2, y1, y2 = int(x1), int(x2), int(y1), int(y2)\n",
    "        if d[1] == 'on':\n",
    "            grid[x1:x2+1, y1:y2+1] += 1\n",
    "        else:\n",
    "            assert d[1] == 'off'\n",
    "            grid[x1:x2+1, y1:y2+1] -= 1\n",
    "            grid[grid < 0] = 0\n",
    "    # Toggle\n",
    "    else:\n",
    "        assert d[0] == 'toggle'\n",
    "        x1, y1 = d[1].split(',')\n",
    "        x2, y2 = d[3].split(',')\n",
    "        x1, x2, y1, y2 = int(x1), int(x2), int(y1), int(y2)\n",
    "        grid[x1:x2+1, y1:y2+1] += 2\n",
    "print(np.sum(grid))"
   ]
  }
 ],
 "metadata": {
  "kernelspec": {
   "display_name": "base",
   "language": "python",
   "name": "python3"
  },
  "language_info": {
   "codemirror_mode": {
    "name": "ipython",
    "version": 3
   },
   "file_extension": ".py",
   "mimetype": "text/x-python",
   "name": "python",
   "nbconvert_exporter": "python",
   "pygments_lexer": "ipython3",
   "version": "3.11.5"
  }
 },
 "nbformat": 4,
 "nbformat_minor": 2
}
