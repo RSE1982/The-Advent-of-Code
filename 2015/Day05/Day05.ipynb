{
 "cells": [
  {
   "cell_type": "markdown",
   "metadata": {},
   "source": [
    "# Day 5: Doesn't He Have Intern-Elves For This?\n"
   ]
  },
  {
   "cell_type": "code",
   "execution_count": 4,
   "metadata": {},
   "outputs": [],
   "source": [
    "input_file = \"Day05.txt\"\n",
    "from re import search\n",
    "data = open(input_file).read().splitlines()"
   ]
  },
  {
   "cell_type": "markdown",
   "metadata": {},
   "source": [
    "\n",
    "# Part 1\n",
    "Santa needs help figuring out which strings in his text file are naughty or nice.\n",
    "\n",
    "A nice string is one with all of the following properties:\n",
    "\n",
    "- It contains at least three vowels (```aeiou``` only), like ```aei```, ```xazegov```, or ```aeiouaeiouaeiou```.\n",
    "- It contains at least one letter that appears twice in a row, like ```xx```, ```abcdde``` (```dd```), or ```aabbccdd``` (```aa```, ```bb```, ```cc```, or ```dd```).\n",
    "- It does not contain the strings ```ab```, ```cd```, ```pq```, or ```xy```, even if they are part of one of the other requirements.\n",
    "\n",
    "For example:\n",
    "\n",
    "- ugknbfddgicrmopn is nice because it has at least three vowels (```u...i...o...```), a double letter (```...dd...```), and none of the disallowed substrings.\n",
    "- ```aaa``` is nice because it has at least three vowels and a double letter, even though the letters used by different rules overlap.\n",
    "- ```jchzalrnumimnmhp``` is naughty because it has no double letter.\n",
    "- ```haegwjzuvuyypxyu``` is naughty because it contains the string xy.\n",
    "- ```dvszwmarrgswjxmb``` is naughty because it contains only one vowel.\n",
    "\n",
    "How many strings are nice?"
   ]
  },
  {
   "cell_type": "code",
   "execution_count": 5,
   "metadata": {},
   "outputs": [
    {
     "name": "stdout",
     "output_type": "stream",
     "text": [
      "236\n"
     ]
    }
   ],
   "source": [
    "print(sum(1 for d in data if search(\"([aeiou].*){3}\", d) and search(r\"(.)\\1\", d) and not search(\"ab|cd|pq|xy\", d)))"
   ]
  },
  {
   "cell_type": "markdown",
   "metadata": {},
   "source": []
  },
  {
   "cell_type": "markdown",
   "metadata": {},
   "source": [
    "## Part Two\n",
    "Realizing the error of his ways, Santa has switched to a better model of determining whether a string is naughty or nice. None of the old rules apply, as they are all clearly ridiculous.\n",
    "\n",
    "Now, a nice string is one with all of the following properties:\n",
    "\n",
    "It contains a pair of any two letters that appears at least twice in the string without overlapping, like ```xyxy``` (```xy```) or ```aabcdefgaa``` (```aa```), but not like ```aaa``` (```aa```, but it overlaps).\n",
    "It contains at least one letter which repeats with exactly one letter between them, like ```xyx```, ```abcdefeghi``` (```efe```), or even ```aaa```.\n",
    "For example:\n",
    "\n",
    "- ```qjhvhtzxzqqjkmpb``` is nice because is has a pair that appears twice (```qj```) and a letter that repeats with exactly one letter between them (```zxz```).\n",
    "- ```xxyxx``` is nice because it has a pair that appears twice and a letter that repeats with one between, even though the letters used by each rule overlap.\n",
    "- ```uurcxstgmygtbstg``` is naughty because it has a pair (```tg```) but no repeat with a single letter between them.\n",
    "- ```ieodomkazucvgmuy``` is naughty because it has a repeating letter with one between (```odo```), but no pair that appears twice.\n",
    "\n",
    "How many strings are nice under these new rules?"
   ]
  },
  {
   "cell_type": "code",
   "execution_count": 6,
   "metadata": {},
   "outputs": [
    {
     "name": "stdout",
     "output_type": "stream",
     "text": [
      "51\n"
     ]
    }
   ],
   "source": [
    "print(sum(1 for d in data if search(r\"(..).*\\1\", d) and search(r\"(.).\\1\", d)))"
   ]
  }
 ],
 "metadata": {
  "kernelspec": {
   "display_name": "base",
   "language": "python",
   "name": "python3"
  },
  "language_info": {
   "codemirror_mode": {
    "name": "ipython",
    "version": 3
   },
   "file_extension": ".py",
   "mimetype": "text/x-python",
   "name": "python",
   "nbconvert_exporter": "python",
   "pygments_lexer": "ipython3",
   "version": "3.11.5"
  }
 },
 "nbformat": 4,
 "nbformat_minor": 2
}
