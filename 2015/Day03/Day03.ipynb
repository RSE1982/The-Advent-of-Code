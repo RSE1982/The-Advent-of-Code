{
 "cells": [
  {
   "cell_type": "markdown",
   "metadata": {},
   "source": [
    "# Day 3: Perfectly Spherical Houses in a Vacuum\n"
   ]
  },
  {
   "cell_type": "code",
   "execution_count": 18,
   "metadata": {},
   "outputs": [],
   "source": [
    "input_file = \"Day03.txt\"\n",
    "input = open(input_file).read()\n",
    "import numpy as np\n",
    "data = open(input_file).read().strip()\n",
    "step = {\n",
    "    '^': (0, 1),\n",
    "    'v': (0, -1),\n",
    "    '>': (1, 0),\n",
    "    '<': (-1, 0),\n",
    "}\n",
    "grid = np.zeros((1000, 1000), dtype='int32')"
   ]
  },
  {
   "cell_type": "markdown",
   "metadata": {},
   "source": [
    "## Part 1\n",
    "Santa is delivering presents to an infinite two-dimensional grid of houses.\n",
    "\n",
    "He begins by delivering a present to the house at his starting location, and then an elf at the North Pole calls him via radio and tells him where to move next. Moves are always exactly one house to the north (```^```), south (```v```), east (```>```), or west (```<```). After each move, he delivers another present to the house at his new location.\n",
    "\n",
    "However, the elf back at the north pole has had a little too much eggnog, and so his directions are a little off, and Santa ends up visiting some houses more than once. How many houses receive at least one present?\n",
    "\n",
    "For example:\n",
    "\n",
    "- ```>``` delivers presents to 2 houses: one at the starting location, and one to the east.\n",
    "- ```^>v<``` delivers presents to 4 houses in a square, including twice to the house at his starting/ending location.\n",
    "- ```^v^v^v^v^v``` delivers a bunch of presents to some very lucky children at only 2 houses."
   ]
  },
  {
   "cell_type": "code",
   "execution_count": 19,
   "metadata": {},
   "outputs": [
    {
     "name": "stdout",
     "output_type": "stream",
     "text": [
      "2572\n"
     ]
    }
   ],
   "source": [
    "x = 500\n",
    "y = 500\n",
    "grid[x, y] = 1\n",
    "for direction in data:\n",
    "    delta_x, delta_y = step[direction]\n",
    "    x += delta_x\n",
    "    y += delta_y\n",
    "    grid[x, y] += 1\n",
    "\n",
    "answer = len(np.nonzero(grid)[0])\n",
    "print(f\"{answer}\")\n"
   ]
  },
  {
   "cell_type": "markdown",
   "metadata": {},
   "source": [
    "# Part 2\n",
    "The next year, to speed up the process, Santa creates a robot version of himself, Robo-Santa, to deliver presents with him.\n",
    "\n",
    "Santa and Robo-Santa start at the same location (delivering two presents to the same starting house), then take turns moving based on instructions from the elf, who is eggnoggedly reading from the same script as the previous year.\n",
    "\n",
    "This year, how many houses receive at least one present?\n",
    "\n",
    "For example:\n",
    "\n",
    "- ```^v``` delivers presents to ```3``` houses, because Santa goes north, and then Robo-Santa goes south.\n",
    "- ```^>v<``` now delivers presents to ```3``` houses, and Santa and Robo-Santa end up back where they started.\n",
    "- ```^v^v^v^v^v``` now delivers presents to ```11``` houses, with Santa going one direction and Robo-Santa going the other."
   ]
  },
  {
   "cell_type": "code",
   "execution_count": 20,
   "metadata": {},
   "outputs": [
    {
     "name": "stdout",
     "output_type": "stream",
     "text": [
      "2631\n"
     ]
    }
   ],
   "source": [
    "santa_x = 500\n",
    "santa_y = 500\n",
    "robot_x = 500\n",
    "robot_y = 500\n",
    "grid[santa_x, santa_y] += 1\n",
    "grid[robot_x, robot_y] += 1\n",
    "for i, direction in enumerate(data):\n",
    "    delta_x, delta_y = step[direction]\n",
    "    if (i % 2) == 0:\n",
    "        santa_x += delta_x\n",
    "        santa_y += delta_y\n",
    "        grid[santa_x, santa_y] += 1\n",
    "    else:\n",
    "        robot_x += delta_x\n",
    "        robot_y += delta_y\n",
    "        grid[robot_x, robot_y] += 1\n",
    "answer = len(np.nonzero(grid)[0])\n",
    "print(f\"{answer}\")"
   ]
  }
 ],
 "metadata": {
  "kernelspec": {
   "display_name": "base",
   "language": "python",
   "name": "python3"
  },
  "language_info": {
   "codemirror_mode": {
    "name": "ipython",
    "version": 3
   },
   "file_extension": ".py",
   "mimetype": "text/x-python",
   "name": "python",
   "nbconvert_exporter": "python",
   "pygments_lexer": "ipython3",
   "version": "3.11.5"
  }
 },
 "nbformat": 4,
 "nbformat_minor": 2
}
